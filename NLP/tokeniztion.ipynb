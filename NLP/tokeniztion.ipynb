{
 "cells": [
  {
   "cell_type": "code",
   "execution_count": null,
   "id": "af18fa47",
   "metadata": {},
   "outputs": [
    {
     "name": "stdout",
     "output_type": "stream",
     "text": [
      "Requirement already satisfied: nltk in c:\\users\\admin\\desktop\\krish ai course\\venv\\lib\\site-packages (3.9.1)\n",
      "Requirement already satisfied: click in c:\\users\\admin\\appdata\\roaming\\python\\python313\\site-packages (from nltk) (8.2.1)\n",
      "Requirement already satisfied: joblib in c:\\users\\admin\\desktop\\krish ai course\\venv\\lib\\site-packages (from nltk) (1.5.1)\n",
      "Requirement already satisfied: regex>=2021.8.3 in c:\\users\\admin\\desktop\\krish ai course\\venv\\lib\\site-packages (from nltk) (2024.11.6)\n",
      "Requirement already satisfied: tqdm in c:\\users\\admin\\desktop\\krish ai course\\venv\\lib\\site-packages (from nltk) (4.67.1)\n",
      "Requirement already satisfied: colorama in c:\\users\\admin\\appdata\\roaming\\python\\python313\\site-packages (from click->nltk) (0.4.6)\n",
      "Note: you may need to restart the kernel to use updated packages.\n"
     ]
    },
    {
     "name": "stderr",
     "output_type": "stream",
     "text": [
      "\n",
      "[notice] A new release of pip is available: 25.0.1 -> 25.1.1\n",
      "[notice] To update, run: python.exe -m pip install --upgrade pip\n"
     ]
    }
   ],
   "source": [
    "%pip install nltk"
   ]
  },
  {
   "cell_type": "code",
   "execution_count": 7,
   "id": "160abdde",
   "metadata": {},
   "outputs": [],
   "source": [
    "corpus =\"\"\"Hello welcome, I'm prithviraj I do NLP tutorials. Please watch entire course! to become an expert in nlp.\"\"\""
   ]
  },
  {
   "cell_type": "code",
   "execution_count": 8,
   "id": "5199fa05-f703-4d3b-8334-eb4755447d9c",
   "metadata": {},
   "outputs": [
    {
     "name": "stdout",
     "output_type": "stream",
     "text": [
      "Hello welcome, I'm prithviraj I do NLP tutorials. Please watch entire course! to become an expert in nlp.\n"
     ]
    }
   ],
   "source": [
    "print(corpus)"
   ]
  },
  {
   "cell_type": "code",
   "execution_count": 9,
   "id": "5e0cd0b8-e1ad-40ae-9392-16b34123a4cd",
   "metadata": {},
   "outputs": [],
   "source": [
    "#tokentization \n",
    "#sentnce from paragraph\n",
    "from nltk.tokenize import sent_tokenize"
   ]
  },
  {
   "cell_type": "code",
   "execution_count": 13,
   "id": "f8afb6ab-0d33-4d81-9ffe-de2dd4eb66cd",
   "metadata": {},
   "outputs": [
    {
     "name": "stdout",
     "output_type": "stream",
     "text": [
      "[\"Hello welcome, I'm prithviraj I do NLP tutorials.\", 'Please watch entire course!', 'to become an expert in nlp.']\n"
     ]
    },
    {
     "name": "stderr",
     "output_type": "stream",
     "text": [
      "[nltk_data] Downloading package punkt to\n",
      "[nltk_data]     C:\\Users\\ADMIN\\AppData\\Roaming\\nltk_data...\n",
      "[nltk_data]   Package punkt is already up-to-date!\n",
      "[nltk_data] Downloading package punkt_tab to\n",
      "[nltk_data]     C:\\Users\\ADMIN\\AppData\\Roaming\\nltk_data...\n",
      "[nltk_data]   Package punkt_tab is already up-to-date!\n"
     ]
    }
   ],
   "source": [
    "import nltk\n",
    "from nltk.tokenize import sent_tokenize\n",
    "\n",
    "# Download the punkt tokenizer (only needs to be run once)\n",
    "nltk.download('punkt')\n",
    "nltk.download('punkt_tab')\n",
    "\n",
    "# Your text corpus\n",
    "corpus = \"\"\"Hello welcome, I'm prithviraj I do NLP tutorials. Please watch entire course! to become an expert in nlp.\"\"\"\n",
    "\n",
    "# Tokenize into sentences\n",
    "sentences = sent_tokenize(corpus)\n",
    "\n",
    "# Print the sentences\n",
    "print(sentences)\n"
   ]
  },
  {
   "cell_type": "code",
   "execution_count": 15,
   "id": "748d5269-49f4-414c-9734-f4a05ae492ed",
   "metadata": {},
   "outputs": [
    {
     "name": "stdout",
     "output_type": "stream",
     "text": [
      "Hello welcome, I'm prithviraj I do NLP tutorials.\n",
      "Please watch entire course!\n",
      "to become an expert in nlp.\n"
     ]
    }
   ],
   "source": [
    "for i in sentences:\n",
    "    print(i)\n",
    "    "
   ]
  },
  {
   "cell_type": "code",
   "execution_count": 23,
   "id": "e756083b-397d-48a4-ab72-01fa95cb6366",
   "metadata": {},
   "outputs": [
    {
     "name": "stdout",
     "output_type": "stream",
     "text": [
      "['Hello', 'welcome', ',', 'I', \"'m\", 'prithviraj', 'I', 'do', 'NLP', 'tutorials', '.', 'Please', 'watch', 'entire', 'course', '!', 'to', 'become', 'an', 'expert', 'in', 'nlp', '.']\n"
     ]
    }
   ],
   "source": [
    "#Tokenization \n",
    "#para --> words\n",
    "#sentnce--> words\n",
    "\n",
    "from nltk.tokenize import word_tokenize\n",
    "word=word_tokenize(corpus)\n",
    "print(word)\n",
    "#contanins punctuations"
   ]
  },
  {
   "cell_type": "code",
   "execution_count": 19,
   "id": "f8d42c39-bd80-414c-882f-0daf9082b849",
   "metadata": {},
   "outputs": [
    {
     "name": "stdout",
     "output_type": "stream",
     "text": [
      "Hello\n",
      "welcome\n",
      ",\n",
      "I\n",
      "'m\n",
      "prithviraj\n",
      "I\n",
      "do\n",
      "NLP\n",
      "tutorials\n",
      ".\n",
      "Please\n",
      "watch\n",
      "entire\n",
      "course\n",
      "!\n",
      "to\n",
      "become\n",
      "an\n",
      "expert\n",
      "in\n",
      "nlp\n",
      ".\n"
     ]
    }
   ],
   "source": [
    "for i in word:\n",
    "    print(i)"
   ]
  },
  {
   "cell_type": "code",
   "execution_count": 24,
   "id": "f4feb028-4d57-4557-8b65-2086a3e6e040",
   "metadata": {},
   "outputs": [
    {
     "data": {
      "text/plain": [
       "['Hello',\n",
       " 'welcome',\n",
       " ',',\n",
       " 'I',\n",
       " \"'\",\n",
       " 'm',\n",
       " 'prithviraj',\n",
       " 'I',\n",
       " 'do',\n",
       " 'NLP',\n",
       " 'tutorials',\n",
       " '.',\n",
       " 'Please',\n",
       " 'watch',\n",
       " 'entire',\n",
       " 'course',\n",
       " '!',\n",
       " 'to',\n",
       " 'become',\n",
       " 'an',\n",
       " 'expert',\n",
       " 'in',\n",
       " 'nlp',\n",
       " '.']"
      ]
     },
     "execution_count": 24,
     "metadata": {},
     "output_type": "execute_result"
    }
   ],
   "source": [
    "from nltk.tokenize import wordpunct_tokenize\n",
    "wordpunct_tokenize(corpus)\n",
    "#separates punctuation as well"
   ]
  },
  {
   "cell_type": "code",
   "execution_count": 28,
   "id": "057b7391-3db6-4eea-98b1-b65fedc14ab9",
   "metadata": {},
   "outputs": [
    {
     "data": {
      "text/plain": [
       "['Hello',\n",
       " 'welcome',\n",
       " ',',\n",
       " 'I',\n",
       " \"'m\",\n",
       " 'prithviraj',\n",
       " 'I',\n",
       " 'do',\n",
       " 'NLP',\n",
       " 'tutorials.',\n",
       " 'Please',\n",
       " 'watch',\n",
       " 'entire',\n",
       " 'course',\n",
       " '!',\n",
       " 'to',\n",
       " 'become',\n",
       " 'an',\n",
       " 'expert',\n",
       " 'in',\n",
       " 'nlp',\n",
       " '.']"
      ]
     },
     "execution_count": 28,
     "metadata": {},
     "output_type": "execute_result"
    }
   ],
   "source": [
    "from nltk.tokenize import TreebankWordTokenizer\n",
    "tokenizer=TreebankWordTokenizer()\n",
    "tokenizer.tokenize(corpus)\n",
    "#Here . is not counted separately usnless its the last . of whole corpus"
   ]
  }
 ],
 "metadata": {
  "kernelspec": {
   "display_name": "Python 3",
   "language": "python",
   "name": "python3"
  },
  "language_info": {
   "codemirror_mode": {
    "name": "ipython",
    "version": 3
   },
   "file_extension": ".py",
   "mimetype": "text/x-python",
   "name": "python",
   "nbconvert_exporter": "python",
   "pygments_lexer": "ipython3",
   "version": "3.13.2"
  }
 },
 "nbformat": 4,
 "nbformat_minor": 5
}
